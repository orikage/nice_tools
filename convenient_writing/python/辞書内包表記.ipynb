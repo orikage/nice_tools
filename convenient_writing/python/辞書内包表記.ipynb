{
 "cells": [
  {
   "cell_type": "markdown",
   "source": [
    "https://note.nkmk.me/python-list-comprehension/"
   ],
   "metadata": {}
  },
  {
   "cell_type": "code",
   "execution_count": null,
   "source": [
    "# {キー: 値 for 任意の変数名 in イテラブルオブジェクト}\n",
    "\n",
    "l = ['Alice', 'Bob', 'Charlie']\n",
    "\n",
    "d = {s: len(s) for s in l}\n",
    "print(d)\n",
    "# {'Alice': 5, 'Bob': 3, 'Charlie': 7}"
   ],
   "outputs": [],
   "metadata": {}
  }
 ],
 "metadata": {
  "orig_nbformat": 4,
  "language_info": {
   "name": "python"
  }
 },
 "nbformat": 4,
 "nbformat_minor": 2
}